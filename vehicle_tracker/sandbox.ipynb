{
 "cells": [
  {
   "cell_type": "code",
   "execution_count": null,
   "metadata": {
    "collapsed": true,
    "pycharm": {
     "name": "#%%\n"
    }
   },
   "outputs": [],
   "source": [
    "import cv2 as cv\n",
    "import numpy as np\n",
    "import matplotlib.pyplot as plt\n",
    "from scipy.spatial.distance import cosine"
   ]
  },
  {
   "cell_type": "code",
   "execution_count": null,
   "outputs": [],
   "source": [
    "class MotionModel:\n",
    "    def __init__(self, position, friction=0.7):\n",
    "        assert 0 <= friction <= 1\n",
    "\n",
    "        self.position = position.copy()\n",
    "        self.velocity = np.array([0, 0])\n",
    "        self.friction = friction\n",
    "\n",
    "    def update(self, position):\n",
    "        self.velocity = (self.friction * self.velocity +\n",
    "                         (1 - self.friction) * (position - self.position))\n",
    "        self.position += self.velocity\n",
    "\n",
    "def rand_position_step(a=-1, b=1):\n",
    "    return np.random.random(2) * (b - a) + a\n",
    "\n",
    "position = np.array([0, 0], dtype=np.float)\n",
    "model = MotionModel(position)\n",
    "n_iterations = 10\n",
    "iterations = np.arange(0, n_iterations)\n",
    "\n",
    "positions_real = []\n",
    "positions_model = []\n",
    "\n",
    "for i in iterations:\n",
    "    positions_real.append(position.copy())\n",
    "    positions_model.append(model.position.copy())\n",
    "    prev_velocity = model.velocity.copy()\n",
    "    step = rand_position_step()\n",
    "    position += step\n",
    "    model.update(position)\n",
    "    print(f'{prev_velocity} {model.velocity} {cosine(prev_velocity, model.velocity)}')\n",
    "\n",
    "positions_real = np.array(positions_real)\n",
    "positions_model = np.array(positions_model)\n",
    "\n",
    "plt.scatter(positions_real[:, 0], positions_real[:, 1], s=10, label='real')\n",
    "plt.scatter(positions_model[:, 0], positions_model[:, 1], s=10, label='model')\n",
    "plt.legend()\n",
    "plt.show()"
   ],
   "metadata": {
    "collapsed": false,
    "pycharm": {
     "name": "#%%\n"
    }
   }
  },
  {
   "cell_type": "code",
   "execution_count": null,
   "outputs": [],
   "source": [
    "a = np.array([0.10213743, 0.15590724])\n",
    "b = np.array([0.10946584, -0.13720738])\n",
    "np.sum(a * b) / (np.linalg.norm(a) * np.linalg.norm(b))\n"
   ],
   "metadata": {
    "collapsed": false,
    "pycharm": {
     "name": "#%%\n"
    }
   }
  }
 ],
 "metadata": {
  "kernelspec": {
   "display_name": "Python 3",
   "language": "python",
   "name": "python3"
  },
  "language_info": {
   "codemirror_mode": {
    "name": "ipython",
    "version": 2
   },
   "file_extension": ".py",
   "mimetype": "text/x-python",
   "name": "python",
   "nbconvert_exporter": "python",
   "pygments_lexer": "ipython2",
   "version": "2.7.6"
  }
 },
 "nbformat": 4,
 "nbformat_minor": 0
}