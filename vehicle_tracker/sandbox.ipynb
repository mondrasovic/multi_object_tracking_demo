{
 "cells": [
  {
   "cell_type": "code",
   "execution_count": null,
   "metadata": {
    "collapsed": true,
    "pycharm": {
     "name": "#%%\n"
    }
   },
   "outputs": [],
   "source": [
    "import cv2 as cv\n",
    "import numpy as np\n",
    "import matplotlib.pyplot as plt\n",
    "from scipy.spatial.distance import cosine"
   ]
  },
  {
   "cell_type": "code",
   "execution_count": null,
   "outputs": [],
   "source": [
    "class MotionModel:\n",
    "    def __init__(self, position, friction=0.7):\n",
    "        assert 0 <= friction <= 1\n",
    "\n",
    "        self.position = position.copy()\n",
    "        self.velocity = np.array([0, 0])\n",
    "        self.friction = friction\n",
    "\n",
    "    def update(self, position):\n",
    "        self.velocity = (self.friction * self.velocity +\n",
    "                         (1 - self.friction) * (position - self.position))\n",
    "        self.position += self.velocity\n",
    "\n",
    "def rand_position_step(a=-1, b=1):\n",
    "    return np.random.random(2) * (b - a) + a\n",
    "\n",
    "position = np.array([0, 0], dtype=np.float)\n",
    "model = MotionModel(position)\n",
    "n_iterations = 10\n",
    "iterations = np.arange(0, n_iterations)\n",
    "\n",
    "positions_real = []\n",
    "positions_model = []\n",
    "\n",
    "for i in iterations:\n",
    "    positions_real.append(position.copy())\n",
    "    positions_model.append(model.position.copy())\n",
    "    prev_velocity = model.velocity.copy()\n",
    "    step = rand_position_step()\n",
    "    position += step\n",
    "    model.update(position)\n",
    "    print(f'{prev_velocity} {model.velocity} {cosine(prev_velocity, model.velocity)}')\n",
    "\n",
    "positions_real = np.array(positions_real)\n",
    "positions_model = np.array(positions_model)\n",
    "\n",
    "plt.scatter(positions_real[:, 0], positions_real[:, 1], s=10, label='real')\n",
    "plt.scatter(positions_model[:, 0], positions_model[:, 1], s=10, label='model')\n",
    "plt.legend()\n",
    "plt.show()"
   ],
   "metadata": {
    "collapsed": false,
    "pycharm": {
     "name": "#%%\n"
    }
   }
  },
  {
   "cell_type": "code",
   "execution_count": null,
   "outputs": [],
   "source": [
    "from scipy.spatial.distance import cosine\n",
    "\n",
    "a = np.array([1, 2])\n",
    "b = np.array([1, 6])\n",
    "scale = 0.1\n",
    "np.tanh(scale * np.linalg.norm(a - b))"
   ],
   "metadata": {
    "collapsed": false,
    "pycharm": {
     "name": "#%%\n"
    }
   }
  },
  {
   "cell_type": "code",
   "execution_count": null,
   "outputs": [],
   "source": [
    "from skimage.metrics import structural_similarity as ssim\n",
    "\n",
    "img = cv.imread('../data/cars.jpg').astype(np.float)\n",
    "ssim(img, img + 0.9 * np.random.random(img.shape), multichannel=True)"
   ],
   "metadata": {
    "collapsed": false,
    "pycharm": {
     "name": "#%%\n"
    }
   }
  },
  {
   "cell_type": "code",
   "execution_count": null,
   "outputs": [],
   "source": [
    "import json\n",
    "import numpy as np\n",
    "import cv2 as cv\n",
    "import tensorflow as tf\n",
    "from tensorflow import keras\n",
    "from tensorflow.keras import backend as K\n",
    "from tensorflow.keras.applications.mobilenet import preprocess_input"
   ],
   "metadata": {
    "collapsed": false,
    "pycharm": {
     "name": "#%%\n"
    }
   }
  },
  {
   "cell_type": "code",
   "execution_count": null,
   "outputs": [],
   "source": [
    "img_height, img_width, img_depth = 224, 224, 3\n",
    "\n",
    "if K.image_data_format() == 'channels_first':\n",
    "    input_shape = (img_depth, img_height, img_width)\n",
    "else:\n",
    "    input_shape = (img_height, img_width, img_depth)\n",
    "\n",
    "def image_show(img):\n",
    "    cv.imshow('Preview', img)\n",
    "    cv.waitKey(0)\n",
    "    cv.destroyAllWindows()\n",
    "\n",
    "def image_read(img_file_path, width=img_width, height=img_height):\n",
    "    img = cv.imread(img_file_path, cv.IMREAD_COLOR)\n",
    "    img = cv.cvtColor(img, cv.COLOR_BGR2RGB)\n",
    "    return cv.resize(img, (width, height))\n",
    "\n",
    "img_query = image_read('../data/snapshots/03.png')\n",
    "img_gt = image_read('../data/snapshots/02.png')\n",
    "\n",
    "image_show(img_query)\n",
    "image_show(img_gt)"
   ],
   "metadata": {
    "collapsed": false,
    "pycharm": {
     "name": "#%%\n"
    }
   }
  },
  {
   "cell_type": "code",
   "execution_count": null,
   "outputs": [],
   "source": [
    "with open('../model/embedding_model_layout.json', 'r') as json_file:\n",
    "    content = json.load(json_file)\n",
    "    embedding_model = keras.models.model_from_json(json.dumps(content))\n",
    "embedding_model.load_weights('../model/embedding_model_weights.h5')\n",
    "embedding_model.summary()"
   ],
   "metadata": {
    "collapsed": false,
    "pycharm": {
     "name": "#%%\n"
    }
   }
  },
  {
   "cell_type": "code",
   "execution_count": null,
   "outputs": [],
   "source": [
    "def get_embedding(img):\n",
    "    return embedding_model.predict(np.array([preprocess_input(img)]))[0]\n",
    "\n",
    "query_emb = get_embedding(img_query)\n",
    "gt_emb = get_embedding(img_gt)\n",
    "\n",
    "np.linalg.norm(query_emb - gt_emb)"
   ],
   "metadata": {
    "collapsed": false,
    "pycharm": {
     "name": "#%%\n"
    }
   }
  },
  {
   "cell_type": "code",
   "execution_count": null,
   "outputs": [],
   "source": [
    "import json\n",
    "\n",
    "config = {\n",
    "    'detector': {\n",
    "        'config_file_path': '',\n",
    "        'weights_file_path': '',\n",
    "        'labels_file_path': '',\n",
    "        'score_thresh': 0.5,\n",
    "        'nms_thresh': 0.3,\n",
    "        'use_gpu': False,\n",
    "    },\n",
    "    'tracker': {\n",
    "        'config_file_path': '',\n",
    "        'weights_file_path': '',\n",
    "        'emb_dist_thresh': 0.5,\n",
    "    }\n",
    "}"
   ],
   "metadata": {
    "collapsed": false,
    "pycharm": {
     "name": "#%%\n"
    }
   }
  }
 ],
 "metadata": {
  "kernelspec": {
   "display_name": "Python 3",
   "language": "python",
   "name": "python3"
  },
  "language_info": {
   "codemirror_mode": {
    "name": "ipython",
    "version": 2
   },
   "file_extension": ".py",
   "mimetype": "text/x-python",
   "name": "python",
   "nbconvert_exporter": "python",
   "pygments_lexer": "ipython2",
   "version": "2.7.6"
  }
 },
 "nbformat": 4,
 "nbformat_minor": 0
}