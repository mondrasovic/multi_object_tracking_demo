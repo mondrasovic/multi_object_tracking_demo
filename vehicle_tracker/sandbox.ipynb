{
 "cells": [
  {
   "cell_type": "code",
   "execution_count": null,
   "metadata": {
    "collapsed": true,
    "pycharm": {
     "name": "#%%\n"
    }
   },
   "outputs": [],
   "source": [
    "import numpy as np\n",
    "import cv2 as cv\n",
    "from scipy.optimize import linear_sum_assignment\n",
    "\n",
    "cost = np.array([\n",
    "    [0, 1, 2],\n",
    "    [1, 0, 2],\n",
    "    [1, 0, 2],\n",
    "])\n",
    "cost"
   ]
  },
  {
   "cell_type": "code",
   "execution_count": null,
   "outputs": [],
   "source": [
    "row_ind, col_ind = linear_sum_assignment(cost)\n",
    "row_ind, col_ind"
   ],
   "metadata": {
    "collapsed": false,
    "pycharm": {
     "name": "#%%\n"
    }
   }
  },
  {
   "cell_type": "code",
   "execution_count": null,
   "outputs": [],
   "source": [
    "row_ind"
   ],
   "metadata": {
    "collapsed": false,
    "pycharm": {
     "name": "#%%\n"
    }
   }
  },
  {
   "cell_type": "code",
   "execution_count": null,
   "outputs": [],
   "source": [
    "image = cv.imread('../data/cars.jpg')\n",
    "\n",
    "def draw_labeled_rectangle(\n",
    "        image, start_point, end_point, label, rect_color, label_color,\n",
    "        alpha=0.8):\n",
    "    (x1, y1), (x2, y2) = start_point, end_point\n",
    "\n",
    "    roi = image[y1:y2, x1:x2]\n",
    "    rect = np.ones_like(roi) * 255\n",
    "    image[y1:y2, x1:x2] = cv.addWeighted(roi, alpha, rect, 1 - alpha, 0)\n",
    "\n",
    "    font_face = cv.FONT_HERSHEY_COMPLEX\n",
    "    font_scale = 1\n",
    "    font_thickness = 1\n",
    "\n",
    "    (text_width, text_height), baseline = cv.getTextSize(\n",
    "        label, font_face, font_scale, font_thickness)\n",
    "    text_rect_end = (\n",
    "        start_point[0] + text_width, start_point[1] + text_height + baseline)\n",
    "    cv.rectangle(image, start_point, text_rect_end, rect_color, -1)\n",
    "\n",
    "    text_start_point = (start_point[0], start_point[1] + text_height)\n",
    "    cv.putText(\n",
    "        image, label, text_start_point, font_face, font_scale, label_color,\n",
    "        font_thickness, cv.LINE_AA)\n",
    "    cv.rectangle(image, start_point, end_point, rect_color, 2, cv.LINE_AA)\n",
    "\n",
    "draw_labeled_rectangle(\n",
    "    image, (100, 100), (400, 400), 'something', (0, 255, 0), (0, 0, 0))\n",
    "\n",
    "cv.imshow('Preview', image)\n",
    "cv.waitKey(0)\n",
    "cv.destroyAllWindows()"
   ],
   "metadata": {
    "collapsed": false,
    "pycharm": {
     "name": "#%%\n"
    }
   }
  }
 ],
 "metadata": {
  "kernelspec": {
   "display_name": "Python 3",
   "language": "python",
   "name": "python3"
  },
  "language_info": {
   "codemirror_mode": {
    "name": "ipython",
    "version": 2
   },
   "file_extension": ".py",
   "mimetype": "text/x-python",
   "name": "python",
   "nbconvert_exporter": "python",
   "pygments_lexer": "ipython2",
   "version": "2.7.6"
  }
 },
 "nbformat": 4,
 "nbformat_minor": 0
}