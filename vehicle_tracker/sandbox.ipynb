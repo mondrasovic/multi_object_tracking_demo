{
 "cells": [
  {
   "cell_type": "code",
   "execution_count": 8,
   "metadata": {
    "collapsed": true,
    "pycharm": {
     "name": "#%%\n"
    }
   },
   "outputs": [
    {
     "data": {
      "text/plain": "array([[0, 1, 2],\n       [1, 0, 2],\n       [1, 2, 0]])"
     },
     "execution_count": 8,
     "metadata": {},
     "output_type": "execute_result"
    }
   ],
   "source": [
    "import numpy as np\n",
    "import cv2 as cv\n",
    "from scipy.optimize import linear_sum_assignment\n",
    "\n",
    "cost = np.array([\n",
    "    [0, 1, 2],\n",
    "    [1, 0, 2],\n",
    "    [1, 2, 0]\n",
    "])\n",
    "cost"
   ]
  },
  {
   "cell_type": "code",
   "execution_count": 9,
   "outputs": [
    {
     "data": {
      "text/plain": "(array([0, 1, 2]), array([0, 1, 2], dtype=int64))"
     },
     "execution_count": 9,
     "metadata": {},
     "output_type": "execute_result"
    }
   ],
   "source": [
    "row_ind, col_ind = linear_sum_assignment(cost)\n",
    "row_ind, col_ind"
   ],
   "metadata": {
    "collapsed": false,
    "pycharm": {
     "name": "#%%\n"
    }
   }
  },
  {
   "cell_type": "code",
   "execution_count": 10,
   "outputs": [
    {
     "data": {
      "text/plain": "array([0, 1, 2])"
     },
     "execution_count": 10,
     "metadata": {},
     "output_type": "execute_result"
    }
   ],
   "source": [
    "row_ind"
   ],
   "metadata": {
    "collapsed": false,
    "pycharm": {
     "name": "#%%\n"
    }
   }
  },
  {
   "cell_type": "code",
   "execution_count": 21,
   "outputs": [
    {
     "name": "stdout",
     "output_type": "stream",
     "text": [
      "(179, 22)\n"
     ]
    }
   ],
   "source": [
    "image = cv.imread('../data/cars.jpg')\n",
    "\n",
    "def draw_labeled_rectangle(image, start_point, end_point, label, color):\n",
    "    (x1, y1), (x2, y2) = start_point, end_point\n",
    "\n",
    "    font_face = cv.FONT_HERSHEY_COMPLEX\n",
    "    font_scale = 1\n",
    "    font_thickness = 1\n",
    "\n",
    "    text_size, _ = cv.getTextSize(label, font_face, font_scale, font_thickness)\n",
    "    print(text_size)\n",
    "    width, height = x2 - x1, y2 - y1\n",
    "    roi = image[y1:y2, x1:x2]\n",
    "    rect = np.ones_like(roi) * 255\n",
    "    res = cv.addWeighted(roi, 0.5, rect, 0.5, 0)\n",
    "    image[y1:y2, x1:x2] = res\n",
    "\n",
    "draw_labeled_rectangle(image, (100, 100), (400, 400), 'something', None)\n",
    "\n",
    "cv.imshow('Preview', image)\n",
    "cv.waitKey(0)\n",
    "cv.destroyAllWindows()"
   ],
   "metadata": {
    "collapsed": false,
    "pycharm": {
     "name": "#%%\n"
    }
   }
  }
 ],
 "metadata": {
  "kernelspec": {
   "display_name": "Python 3",
   "language": "python",
   "name": "python3"
  },
  "language_info": {
   "codemirror_mode": {
    "name": "ipython",
    "version": 2
   },
   "file_extension": ".py",
   "mimetype": "text/x-python",
   "name": "python",
   "nbconvert_exporter": "python",
   "pygments_lexer": "ipython2",
   "version": "2.7.6"
  }
 },
 "nbformat": 4,
 "nbformat_minor": 0
}