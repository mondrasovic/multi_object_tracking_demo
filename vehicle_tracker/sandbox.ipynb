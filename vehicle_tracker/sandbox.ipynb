{
 "cells": [
  {
   "cell_type": "code",
   "execution_count": 1,
   "metadata": {
    "collapsed": true,
    "pycharm": {
     "name": "#%%\n"
    }
   },
   "outputs": [],
   "source": [
    "import cv2 as cv\n",
    "import numpy as np\n",
    "from sklearn.metrics.pairwise import euclidean_distances"
   ]
  },
  {
   "cell_type": "code",
   "execution_count": 2,
   "outputs": [],
   "source": [
    "def mean_average_precision(pred, rank=10):\n",
    "    n_vals = min(rank, pred.shape[1])\n",
    "    corr_cum_sum = np.cumsum(pred, axis=1)\n",
    "    vals_num_range = np.repeat(\n",
    "        np.arange(1, n_vals + 1)[None, ...], repeats=pred.shape[0], axis=0)\n",
    "    precisions_at_k = (corr_cum_sum / vals_num_range) * pred\n",
    "    average_precisions_at_k = (np.sum(precisions_at_k, axis=1) /\n",
    "                               np.sum(pred, axis=1))\n",
    "    return np.mean(average_precisions_at_k)"
   ],
   "metadata": {
    "collapsed": false,
    "pycharm": {
     "name": "#%%\n"
    }
   }
  },
  {
   "cell_type": "code",
   "execution_count": 3,
   "outputs": [
    {
     "data": {
      "text/plain": "array([[0.        , 0.07587937, 0.10652778, 0.13014638, 0.14777254],\n       [0.07587937, 0.        , 0.04717795, 0.07598841, 0.10892958],\n       [0.10652778, 0.04717795, 0.        , 0.09023546, 0.13944326],\n       [0.13014638, 0.07598841, 0.09023546, 0.        , 0.06821314],\n       [0.14777254, 0.10892958, 0.13944326, 0.06821314, 0.        ]],\n      dtype=float32)"
     },
     "execution_count": 3,
     "metadata": {},
     "output_type": "execute_result"
    }
   ],
   "source": [
    "gallery_emb = np.load('_emb_cache.npy')[:5]\n",
    "dist_mat = euclidean_distances(gallery_emb)\n",
    "dist_mat"
   ],
   "metadata": {
    "collapsed": false,
    "pycharm": {
     "name": "#%%\n"
    }
   }
  },
  {
   "cell_type": "code",
   "execution_count": 11,
   "outputs": [
    {
     "data": {
      "text/plain": "array([[1, 2, 3, 4],\n       [2, 0, 3, 4],\n       [1, 3, 0, 4],\n       [4, 1, 2, 0]], dtype=int64)"
     },
     "execution_count": 11,
     "metadata": {},
     "output_type": "execute_result"
    }
   ],
   "source": [
    "order_indices = np.argsort(dist_mat, axis=1)[:-1,1:]\n",
    "order_indices"
   ],
   "metadata": {
    "collapsed": false,
    "pycharm": {
     "name": "#%%\n"
    }
   }
  },
  {
   "cell_type": "code",
   "execution_count": 15,
   "outputs": [
    {
     "data": {
      "text/plain": "array([[[0.07587937, 0.        , 0.04717795, 0.07598841, 0.10892958],\n        [0.10652778, 0.04717795, 0.        , 0.09023546, 0.13944326],\n        [0.13014638, 0.07598841, 0.09023546, 0.        , 0.06821314],\n        [0.14777254, 0.10892958, 0.13944326, 0.06821314, 0.        ]],\n\n       [[0.10652778, 0.04717795, 0.        , 0.09023546, 0.13944326],\n        [0.        , 0.07587937, 0.10652778, 0.13014638, 0.14777254],\n        [0.13014638, 0.07598841, 0.09023546, 0.        , 0.06821314],\n        [0.14777254, 0.10892958, 0.13944326, 0.06821314, 0.        ]],\n\n       [[0.07587937, 0.        , 0.04717795, 0.07598841, 0.10892958],\n        [0.13014638, 0.07598841, 0.09023546, 0.        , 0.06821314],\n        [0.        , 0.07587937, 0.10652778, 0.13014638, 0.14777254],\n        [0.14777254, 0.10892958, 0.13944326, 0.06821314, 0.        ]],\n\n       [[0.14777254, 0.10892958, 0.13944326, 0.06821314, 0.        ],\n        [0.07587937, 0.        , 0.04717795, 0.07598841, 0.10892958],\n        [0.10652778, 0.04717795, 0.        , 0.09023546, 0.13944326],\n        [0.        , 0.07587937, 0.10652778, 0.13014638, 0.14777254]]],\n      dtype=float32)"
     },
     "execution_count": 15,
     "metadata": {},
     "output_type": "execute_result"
    }
   ],
   "source": [
    "dist_mat[order_indices]"
   ],
   "metadata": {
    "collapsed": false,
    "pycharm": {
     "name": "#%%\n"
    }
   }
  },
  {
   "cell_type": "code",
   "execution_count": 57,
   "outputs": [
    {
     "data": {
      "text/plain": "array([[9, 4, 6, 6, 6],\n       [9, 2, 5, 0, 7],\n       [4, 2, 5, 2, 0],\n       [8, 9, 3, 1, 5]])"
     },
     "execution_count": 57,
     "metadata": {},
     "output_type": "execute_result"
    }
   ],
   "source": [
    "a = np.random.randint(0, 10, size=(4, 5))\n",
    "a"
   ],
   "metadata": {
    "collapsed": false,
    "pycharm": {
     "name": "#%%\n"
    }
   }
  },
  {
   "cell_type": "code",
   "execution_count": 90,
   "outputs": [],
   "source": [
    "idx = np.argsort(a, axis=1)"
   ],
   "metadata": {
    "collapsed": false,
    "pycharm": {
     "name": "#%%\n"
    }
   }
  },
  {
   "cell_type": "code",
   "execution_count": 100,
   "outputs": [
    {
     "data": {
      "text/plain": "array([3, 9])"
     },
     "execution_count": 100,
     "metadata": {},
     "output_type": "execute_result"
    }
   ],
   "source": [
    "gt = np.array([3, 9])\n",
    "gt"
   ],
   "metadata": {
    "collapsed": false,
    "pycharm": {
     "name": "#%%\n"
    }
   }
  },
  {
   "cell_type": "code",
   "execution_count": 101,
   "outputs": [
    {
     "data": {
      "text/plain": "array([[ True, False, False, False, False],\n       [ True, False, False, False, False],\n       [False, False, False, False, False],\n       [False,  True,  True, False, False]])"
     },
     "execution_count": 101,
     "metadata": {},
     "output_type": "execute_result"
    }
   ],
   "source": [
    "np.any(a[..., None] == gt, axis=2)"
   ],
   "metadata": {
    "collapsed": false,
    "pycharm": {
     "name": "#%%\n"
    }
   }
  },
  {
   "cell_type": "code",
   "execution_count": 49,
   "outputs": [
    {
     "data": {
      "text/plain": "array([ True,  True,  True, False,  True,  True, False])"
     },
     "execution_count": 49,
     "metadata": {},
     "output_type": "execute_result"
    }
   ],
   "source": [],
   "metadata": {
    "collapsed": false,
    "pycharm": {
     "name": "#%%\n"
    }
   }
  }
 ],
 "metadata": {
  "kernelspec": {
   "display_name": "Python 3",
   "language": "python",
   "name": "python3"
  },
  "language_info": {
   "codemirror_mode": {
    "name": "ipython",
    "version": 2
   },
   "file_extension": ".py",
   "mimetype": "text/x-python",
   "name": "python",
   "nbconvert_exporter": "python",
   "pygments_lexer": "ipython2",
   "version": "2.7.6"
  }
 },
 "nbformat": 4,
 "nbformat_minor": 0
}